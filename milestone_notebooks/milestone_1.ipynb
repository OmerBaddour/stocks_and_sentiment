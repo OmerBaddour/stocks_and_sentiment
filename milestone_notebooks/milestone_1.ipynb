{
 "cells": [
  {
   "cell_type": "markdown",
   "metadata": {},
   "source": [
    "# Project Thus Far\n",
    "\n",
    "The purpose of this project is to use data from [Twitter](https://twitter.com/), [Reddit](https://www.reddit.com/) and the stock market ([Yahoo! Finance](https://finance.yahoo.com/)) to get an idea of how people feel about a publicly traded stock, and generate a reasonable path of the stock price for the next week. The only required inputs are the name of the company of interest, and its ticker symbol.\n",
    "\n",
    "This notebook serves as a simple proof of concept. It begins by fetching 10 tweets from Twitter about the company of interest. I compute a popularity score by using the number of likes and retweets the Tweet has. I then fetch the top 10 Reddit posts from three investing subreddits, and (at most) three subreddits related to the company of interest. I also filter for posts relevant to the company of interest. I then aggregate the data in a DataFrame, compute the sentiment of each post, and then compute the overall sentiment people have towards the company of interest.\n",
    "\n",
    "Next, I scrape some statistics about the last month of the company's stock price from Yahoo! Finance, and plot the price movement over this time period. I use these statistics, and the overall sentiment people have towards the company of interest, to generate two distributions that are sampled from and combined to yield projected stock prices for the next week. The base distribution is a normal distribution, that has a mean of the last open stock price, and a standard deviation of the mean difference between the daily highs and lows of the stock over the previous month. The distribution is complemented by a uniform distribution which has at least one bound of 0. The other bound is the overall sentiment people have towards the company of interest scaled by a constant, divided by the average volume of traded stock for the past month. I then plot the last week's price movement, and a generated week of future price movement, by summing the values of the two above distributions."
   ]
  },
  {
   "cell_type": "markdown",
   "metadata": {},
   "source": [
    "## 1) Set Company of Interest"
   ]
  },
  {
   "cell_type": "code",
   "execution_count": 1,
   "metadata": {},
   "outputs": [],
   "source": [
    "company_of_interest = \"Microsoft\"\n",
    "company_of_interest_ticker = \"MSFT\""
   ]
  },
  {
   "cell_type": "markdown",
   "metadata": {
    "id": "0ECR68gyJHZd"
   },
   "source": [
    "## 2) Acquire Twitter Data About Company of Interest"
   ]
  },
  {
   "cell_type": "code",
   "execution_count": 2,
   "metadata": {},
   "outputs": [],
   "source": [
    "import requests\n",
    "\n",
    "\n",
    "twitter_search_endpoint = 'https://api.twitter.com/2/tweets/search/recent'\n",
    "headers = {\n",
    "    'Authorization' : 'Bearer <bearer_token>'\n",
    "}\n",
    "parameters  = {\n",
    "    'query' : company_of_interest,\n",
    "    'tweet.fields' : 'text,author_id,created_at,public_metrics',\n",
    "}\n",
    "\n",
    "res = requests.get(twitter_search_endpoint, headers=headers, params=parameters) \n",
    "tweets = res.json()\n",
    "posts = []\n",
    "\n",
    "for d in tweets[\"data\"]:\n",
    "    score = d[\"public_metrics\"][\"like_count\"] + 10*d[\"public_metrics\"][\"retweet_count\"]\n",
    "    posts.append((d[\"id\"], d[\"text\"], score))"
   ]
  },
  {
   "cell_type": "markdown",
   "metadata": {},
   "source": [
    "## 3) Acquire Reddit Data About Company of Interest"
   ]
  },
  {
   "cell_type": "code",
   "execution_count": 3,
   "metadata": {},
   "outputs": [],
   "source": [
    "import praw\n",
    "\n",
    "\n",
    "reddit = praw.Reddit(\n",
    "    client_id=\"<client_id>\",\n",
    "    client_secret=\"<client_secret>\",\n",
    "    user_agent=\"<user_agent>\",\n",
    ")\n",
    "\n",
    "subreddits = [reddit.subreddit('Trading'),\n",
    "              reddit.subreddit('investing'),\n",
    "              reddit.subreddit('stocks')]\n",
    "subreddits_for_coi = reddit.subreddits.search_by_name(company_of_interest)\n",
    "if subreddits_for_coi:\n",
    "    subreddits.extend(subreddits_for_coi[:min(len(subreddits_for_coi), 3)])\n",
    "\n",
    "for subreddit in subreddits:\n",
    "    for submission in subreddit.hot(limit=10):\n",
    "        if company_of_interest in submission.selftext:\n",
    "            posts.append((submission.id, submission.selftext, submission.score))"
   ]
  },
  {
   "cell_type": "markdown",
   "metadata": {
    "id": "VWkDP0IUJ-Wg"
   },
   "source": [
    "## 4) Structure All Data in a DataFrame"
   ]
  },
  {
   "cell_type": "code",
   "execution_count": 4,
   "metadata": {
    "colab": {
     "base_uri": "https://localhost:8080/",
     "height": 787
    },
    "id": "RDVCG-m1ob3f",
    "outputId": "5a55ba18-c6c3-4887-9225-737b36cc75b2",
    "scrolled": true
   },
   "outputs": [
    {
     "data": {
      "text/html": [
       "<div>\n",
       "<style scoped>\n",
       "    .dataframe tbody tr th:only-of-type {\n",
       "        vertical-align: middle;\n",
       "    }\n",
       "\n",
       "    .dataframe tbody tr th {\n",
       "        vertical-align: top;\n",
       "    }\n",
       "\n",
       "    .dataframe thead th {\n",
       "        text-align: right;\n",
       "    }\n",
       "</style>\n",
       "<table border=\"1\" class=\"dataframe\">\n",
       "  <thead>\n",
       "    <tr style=\"text-align: right;\">\n",
       "      <th></th>\n",
       "      <th>id</th>\n",
       "      <th>text</th>\n",
       "      <th>score</th>\n",
       "    </tr>\n",
       "  </thead>\n",
       "  <tbody>\n",
       "    <tr>\n",
       "      <th>0</th>\n",
       "      <td>1454798187848425473</td>\n",
       "      <td>RT @windowsblog: Panos Panay and more: What’s ...</td>\n",
       "      <td>140</td>\n",
       "    </tr>\n",
       "    <tr>\n",
       "      <th>1</th>\n",
       "      <td>1454798180801941512</td>\n",
       "      <td>RT @SohoRonso: 【バックナンバー『雙峰論叢』第4号(2020年4月号)公開のお...</td>\n",
       "      <td>30</td>\n",
       "    </tr>\n",
       "    <tr>\n",
       "      <th>2</th>\n",
       "      <td>1454798173231357956</td>\n",
       "      <td>RT @ABC: The same actors behind the SolarWinds...</td>\n",
       "      <td>320</td>\n",
       "    </tr>\n",
       "    <tr>\n",
       "      <th>3</th>\n",
       "      <td>1454798151118999552</td>\n",
       "      <td>@Sawdog881 @9to5mac @joseadorno Microsoft has ...</td>\n",
       "      <td>0</td>\n",
       "    </tr>\n",
       "    <tr>\n",
       "      <th>4</th>\n",
       "      <td>1454798149126692864</td>\n",
       "      <td>RT @omarsar0: Data Science for Beginners - A C...</td>\n",
       "      <td>430</td>\n",
       "    </tr>\n",
       "    <tr>\n",
       "      <th>5</th>\n",
       "      <td>1454798142847782913</td>\n",
       "      <td>@Emill1984 @Fan_Technologii @Microsoft @debian...</td>\n",
       "      <td>1</td>\n",
       "    </tr>\n",
       "    <tr>\n",
       "      <th>6</th>\n",
       "      <td>1454798122069241860</td>\n",
       "      <td>RT @AlanBarrosoA: Aprovechando que es Hallowee...</td>\n",
       "      <td>580</td>\n",
       "    </tr>\n",
       "    <tr>\n",
       "      <th>7</th>\n",
       "      <td>1454798104688041984</td>\n",
       "      <td>Software/Tech Tip: Handout of Microsoft Word k...</td>\n",
       "      <td>0</td>\n",
       "    </tr>\n",
       "    <tr>\n",
       "      <th>8</th>\n",
       "      <td>1454798098715189248</td>\n",
       "      <td>@sunglasssister @LuciitheAlien Ty @Microsoft a...</td>\n",
       "      <td>0</td>\n",
       "    </tr>\n",
       "    <tr>\n",
       "      <th>9</th>\n",
       "      <td>1454798081245937666</td>\n",
       "      <td>RT @wan_1997: Laptop ni macam boleh bau je bil...</td>\n",
       "      <td>84170</td>\n",
       "    </tr>\n",
       "    <tr>\n",
       "      <th>10</th>\n",
       "      <td>o22lfc</td>\n",
       "      <td>Microsoft: Official Support Thread\\n\\nMicrosof...</td>\n",
       "      <td>98</td>\n",
       "    </tr>\n",
       "    <tr>\n",
       "      <th>11</th>\n",
       "      <td>qj03bx</td>\n",
       "      <td>Hi,\\nin our company (advertisment agency) we‘r...</td>\n",
       "      <td>10</td>\n",
       "    </tr>\n",
       "    <tr>\n",
       "      <th>12</th>\n",
       "      <td>n50k0h</td>\n",
       "      <td>^Last ^Updated: ^23:32 ^EDT ^Oct ^30\\n  \\nTuto...</td>\n",
       "      <td>317</td>\n",
       "    </tr>\n",
       "    <tr>\n",
       "      <th>13</th>\n",
       "      <td>qgcml2</td>\n",
       "      <td>Hi all,  \\n  \\nYou can turn in Quest Completio...</td>\n",
       "      <td>35</td>\n",
       "    </tr>\n",
       "    <tr>\n",
       "      <th>14</th>\n",
       "      <td>qianux</td>\n",
       "      <td>I am looking to buy Jurassic World Evolution b...</td>\n",
       "      <td>2</td>\n",
       "    </tr>\n",
       "  </tbody>\n",
       "</table>\n",
       "</div>"
      ],
      "text/plain": [
       "                     id                                               text  \\\n",
       "0   1454798187848425473  RT @windowsblog: Panos Panay and more: What’s ...   \n",
       "1   1454798180801941512  RT @SohoRonso: 【バックナンバー『雙峰論叢』第4号(2020年4月号)公開のお...   \n",
       "2   1454798173231357956  RT @ABC: The same actors behind the SolarWinds...   \n",
       "3   1454798151118999552  @Sawdog881 @9to5mac @joseadorno Microsoft has ...   \n",
       "4   1454798149126692864  RT @omarsar0: Data Science for Beginners - A C...   \n",
       "5   1454798142847782913  @Emill1984 @Fan_Technologii @Microsoft @debian...   \n",
       "6   1454798122069241860  RT @AlanBarrosoA: Aprovechando que es Hallowee...   \n",
       "7   1454798104688041984  Software/Tech Tip: Handout of Microsoft Word k...   \n",
       "8   1454798098715189248  @sunglasssister @LuciitheAlien Ty @Microsoft a...   \n",
       "9   1454798081245937666  RT @wan_1997: Laptop ni macam boleh bau je bil...   \n",
       "10               o22lfc  Microsoft: Official Support Thread\\n\\nMicrosof...   \n",
       "11               qj03bx  Hi,\\nin our company (advertisment agency) we‘r...   \n",
       "12               n50k0h  ^Last ^Updated: ^23:32 ^EDT ^Oct ^30\\n  \\nTuto...   \n",
       "13               qgcml2  Hi all,  \\n  \\nYou can turn in Quest Completio...   \n",
       "14               qianux  I am looking to buy Jurassic World Evolution b...   \n",
       "\n",
       "    score  \n",
       "0     140  \n",
       "1      30  \n",
       "2     320  \n",
       "3       0  \n",
       "4     430  \n",
       "5       1  \n",
       "6     580  \n",
       "7       0  \n",
       "8       0  \n",
       "9   84170  \n",
       "10     98  \n",
       "11     10  \n",
       "12    317  \n",
       "13     35  \n",
       "14      2  "
      ]
     },
     "execution_count": 4,
     "metadata": {},
     "output_type": "execute_result"
    }
   ],
   "source": [
    "import pandas as pd\n",
    "\n",
    "df = pd.DataFrame(columns=[\"id\", \"text\", \"score\"], data=posts)\n",
    "df"
   ]
  },
  {
   "cell_type": "markdown",
   "metadata": {},
   "source": [
    "## 5) Calculate Sentiment"
   ]
  },
  {
   "cell_type": "code",
   "execution_count": 5,
   "metadata": {},
   "outputs": [],
   "source": [
    "from textblob import TextBlob\n",
    "\n",
    "\n",
    "df[\"sentiment_score\"] = df[\"text\"].apply(lambda x: TextBlob(x).sentiment.polarity)"
   ]
  },
  {
   "cell_type": "markdown",
   "metadata": {},
   "source": [
    "## 6) Aggregate Sentiment Scores"
   ]
  },
  {
   "cell_type": "code",
   "execution_count": 6,
   "metadata": {},
   "outputs": [],
   "source": [
    "aggregate_sentiment = 0\n",
    "\n",
    "for i, r in df.iterrows():\n",
    "    aggregate_sentiment += r[\"score\"] * r[\"sentiment_score\"]"
   ]
  },
  {
   "cell_type": "markdown",
   "metadata": {},
   "source": [
    "## 7) Yahoo Finance Visualization"
   ]
  },
  {
   "cell_type": "code",
   "execution_count": 7,
   "metadata": {},
   "outputs": [
    {
     "name": "stdout",
     "output_type": "stream",
     "text": [
      "[*********************100%***********************]  1 of 1 completed\n"
     ]
    }
   ],
   "source": [
    "import yfinance as yf\n",
    "import matplotlib.pyplot as plt\n",
    "%matplotlib inline\n",
    "import datetime\n",
    "\n",
    "\n",
    "today = datetime.date.today()\n",
    "start = (today - datetime.timedelta(days=30)).strftime(\"%Y-%m-%d\")\n",
    "end = today.strftime(\"%Y-%m-%d\")\n",
    "\n",
    "df_stock_prices = yf.download(company_of_interest_ticker, start, end)"
   ]
  },
  {
   "cell_type": "code",
   "execution_count": 8,
   "metadata": {},
   "outputs": [
    {
     "data": {
      "text/plain": [
       "Text(0.5, 1.0, 'Last Monthly Stock Prices of Microsoft')"
      ]
     },
     "execution_count": 8,
     "metadata": {},
     "output_type": "execute_result"
    },
    {
     "data": {
      "image/png": "[encoded data removed]",
      "text/plain": [
       "<Figure size 1152x648 with 1 Axes>"
      ]
     },
     "metadata": {
      "needs_background": "light"
     },
     "output_type": "display_data"
    }
   ],
   "source": [
    "df_stock_prices[\"Open\"].plot(label=company_of_interest, figsize = (16, 9))\n",
    "plt.title(f\"Last Monthly Stock Prices of {company_of_interest}\")"
   ]
  },
  {
   "cell_type": "markdown",
   "metadata": {},
   "source": [
    "## 8) Projection Visualization"
   ]
  },
  {
   "cell_type": "code",
   "execution_count": 9,
   "metadata": {},
   "outputs": [],
   "source": [
    "df_future_stock_prices = df_stock_prices.copy()\n",
    "\n",
    "mean_volume = df_stock_prices[\"Volume\"].mean()\n",
    "sentiment_scaled_by_volume = aggregate_sentiment * 100_000 / mean_volume if mean_volume != 0 else 0"
   ]
  },
  {
   "cell_type": "code",
   "execution_count": 10,
   "metadata": {},
   "outputs": [],
   "source": [
    "import numpy as np\n",
    "\n",
    "\n",
    "# main distribution: normal random variable with\n",
    "#     - a mean of the previous Open\n",
    "#     - a standard deviation of the average difference between High and Low for each day\n",
    "high_low_diffs = [high - low for high, low in zip(df_stock_prices[\"High\"], df_stock_prices[\"Low\"])]\n",
    "normal_std = sum(high_low_diffs) / len(high_low_diffs)\n",
    "\n",
    "# sentiment noise: uniform random variable of sentiment scaled by volume\n",
    "uniform_low, uniform_high = (0, sentiment_scaled_by_volume) if sentiment_scaled_by_volume > 0 else (sentiment_scaled_by_volume, 0)"
   ]
  },
  {
   "cell_type": "code",
   "execution_count": 11,
   "metadata": {},
   "outputs": [
    {
     "data": {
      "text/plain": [
       "Text(0.5, 1.0, 'Last Week and Projected Next Week of Stock Prices of Microsoft')"
      ]
     },
     "execution_count": 11,
     "metadata": {},
     "output_type": "execute_result"
    },
    {
     "data": {
      "image/png": "[encoded data removed]",
      "text/plain": [
       "<Figure size 1152x648 with 1 Axes>"
      ]
     },
     "metadata": {
      "needs_background": "light"
     },
     "output_type": "display_data"
    }
   ],
   "source": [
    "df_future_stock_prices.drop(columns=[\"High\", \"Low\", \"Close\", \"Adj Close\", \"Volume\"], inplace=True)\n",
    "\n",
    "for i in range(7):\n",
    "    previous = df_future_stock_prices.iloc[-1]\n",
    "    date = pd.to_datetime(previous.name + datetime.timedelta(days=1), format=\"%Y-%m-%d\")\n",
    "    new_row = pd.DataFrame(\n",
    "        [[np.random.normal(previous[\"Open\"], normal_std) + np.random.uniform(low=uniform_low, high=uniform_high)]],\n",
    "        columns=[\"Open\"],\n",
    "        index=[date]\n",
    "    )\n",
    "    df_future_stock_prices = pd.concat([df_future_stock_prices, pd.DataFrame(new_row)], ignore_index=False)\n",
    "\n",
    "df_future_stock_prices = df_future_stock_prices.iloc[-14:]\n",
    "\n",
    "df_future_stock_prices[\"Open\"].plot(label=\"future_\" + company_of_interest, figsize = (16, 9))\n",
    "plt.title(f\"Last Week and Projected Next Week of Stock Prices of {company_of_interest}\")"
   ]
  }
 ],
 "metadata": {
  "colab": {
   "collapsed_sections": [],
   "name": "In class - Section 1- TwitterAPI.ipynb",
   "provenance": []
  },
  "kernelspec": {
   "display_name": "venv_stocks_and_sentiment",
   "language": "python",
   "name": "venv_stocks_and_sentiment"
  },
  "language_info": {
   "codemirror_mode": {
    "name": "ipython",
    "version": 3
   },
   "file_extension": ".py",
   "mimetype": "text/x-python",
   "name": "python",
   "nbconvert_exporter": "python",
   "pygments_lexer": "ipython3",
   "version": "3.9.12"
  }
 },
 "nbformat": 4,
 "nbformat_minor": 1
}
