{
 "cells": [
  {
   "cell_type": "markdown",
   "metadata": {},
   "source": [
    "# Project Thus Far\n",
    "\n",
    "## Overview\n",
    "\n",
    "The overall purpose of this project is to use emotions to aid investing decisions. The project has two key components.\n",
    "\n",
    "The first component predicts a stock price's movement for the next week. Sentiment analysis is performed on data scraped from [Twitter](https://twitter.com/) and [Reddit](https://www.reddit.com/) about a publicly traded stock of interest, in order to get an idea of how people feel about the stock. This analysis is combined with stock market data ([Yahoo! Finance](https://finance.yahoo.com/)) to generate a prediction of the stock price's short-term movement.\n",
    "\n",
    "The second component is designed to aid an investor's rationality. Each investor makes an account in our system, which stores their basic personal information, tolerance for risk and current portfolio. Whenever the investor wishes to make a transaction, they must input their reasoning and current mood. Sentiment analysis is done on these inputs to determine whether the investor is in the right emotional headspace to make a sound decision. Furthermore, the investor is presented with graphics of their porfolio's projected movement with and without accounting for the transaction in question (where this projected movement is based on sentiment analysis of relevant Twitter and Reddit data). Lastly, the risk of their portfolio with the transaction is computed, and compared to their tolerance for risk (stored on their profile). All of these analyses are output to the investor to boost their rationality and emotional awareness before they make their final decision.\n",
    "\n",
    "## Details\n",
    "\n",
    "This notebook serves as a simple proof of concept. It begins with the creation of a user in our database, complete with their risk tolerance and current portfolio. Risk tolerance is an integer between 1 and 5 inclusive, where 1 means \"losing this money impacts my living standard\", and 5 means \"I am happy to lose all of this money\". We go through the process of purchasing a stock of interest.\n",
    "\n",
    "For all stocks in the users portfolio and the stock of interest, we fetch 10 relevant Twitter Tweets. We compute a popularity score for each Tweet by using the number of likes and retweets the Tweet has. We then fetch the top 10 Reddit posts from three investing subreddits, and (at most) three subreddits relevant to each stock. The data is then aggregated into a DataFrame. We compute the sentiment of each post, and the overall sentiment that people have towards the company of interest.\n",
    "\n",
    "Next, we scrape some statistics about the last month of the company's stock price from Yahoo! Finance, and plot the price movement over this time period. I use these statistics, and the overall sentiment people have towards the company of interest, to generate two distributions that are sampled from and combined to yield projected stock prices for the next week. The base distribution is a normal distribution, that has a mean of the last open stock price, and a standard deviation of the mean difference between the daily highs and lows of the stock over the previous month. The distribution is complemented by a uniform distribution which has at least one bound of 0. The other bound is the overall sentiment people have towards the company of interest scaled by a constant, divided by the average volume of traded stock for the past month. I then plot the last week's price movement, and a generated week of future price movement, by summing the values of the two above distributions."
   ]
  },
  {
   "cell_type": "markdown",
   "metadata": {},
   "source": [
    "# Database Initialization"
   ]
  },
  {
   "cell_type": "markdown",
   "metadata": {},
   "source": [
    "## 1) Connect to Database"
   ]
  },
  {
   "cell_type": "code",
   "execution_count": 183,
   "metadata": {},
   "outputs": [],
   "source": [
    "import pymysql\n",
    "\n",
    "\n",
    "engine = pymysql.connect(host=\"<host>\",\n",
    "               user=\"<user>\",\n",
    "               password=\"<password>\")"
   ]
  },
  {
   "cell_type": "markdown",
   "metadata": {},
   "source": [
    "## 2) (Try to) Create Tables"
   ]
  },
  {
   "cell_type": "code",
   "execution_count": 2,
   "metadata": {},
   "outputs": [
    {
     "data": {
      "text/plain": [
       "<sqlalchemy.engine.cursor.LegacyCursorResult at 0x10f3f7ee0>"
      ]
     },
     "execution_count": 2,
     "metadata": {},
     "output_type": "execute_result"
    }
   ],
   "source": [
    "# USERS\n",
    "users_table = \"\"\"CREATE TABLE IF NOT EXISTS USERS (\n",
    "                     USER_ID INTEGER PRIMARY KEY AUTO_INCREMENT,\n",
    "                     FIRST_NAME TEXT NOT NULL,\n",
    "                     LAST_NAME TEXT NOT NULL,\n",
    "                     EMAIL TEXT NOT NULL,\n",
    "                     PASSWORD TEXT NOT NULL,\n",
    "                     TOLERANCE_FOR_RISK INTEGER NOT NULL\n",
    "                 );\n",
    "              \"\"\"\n",
    "# STOCKS\n",
    "portfolios_table = \"\"\"CREATE TABLE IF NOT EXISTS PORTFOLIOS (\n",
    "                          USER_ID INTEGER,\n",
    "                          STOCK_NAME TEXT NOT NULL,\n",
    "                          TICKER VARCHAR(10) NOT NULL,\n",
    "                          VOLUME INTEGER NOT NULL,\n",
    "                          PRIMARY KEY (USER_ID, TICKER),\n",
    "                          FOREIGN KEY (USER_ID) REFERENCES USERS (USER_ID)\n",
    "                      );\n",
    "               \"\"\"\n",
    "\n",
    "engine.execute(users_table)\n",
    "engine.execute(portfolios_table)"
   ]
  },
  {
   "cell_type": "markdown",
   "metadata": {},
   "source": [
    "# User Initialization"
   ]
  },
  {
   "cell_type": "markdown",
   "metadata": {},
   "source": [
    "## 1) Create Account"
   ]
  },
  {
   "cell_type": "code",
   "execution_count": 3,
   "metadata": {},
   "outputs": [],
   "source": [
    "first_name = \"First\"\n",
    "last_name = \"Last\"\n",
    "email = \"test@gmail.com\"\n",
    "password = \"password123!\"\n",
    "tolerance_for_risk = 1"
   ]
  },
  {
   "cell_type": "markdown",
   "metadata": {},
   "source": [
    "## 2) Validate Account Details and Uniqueness, Add User To Database, and Fetch `USER_ID`, `TOLERANCE_FOR_RISK`"
   ]
  },
  {
   "cell_type": "code",
   "execution_count": 4,
   "metadata": {},
   "outputs": [],
   "source": [
    "import re\n",
    "\n",
    "\n",
    "def validate_name(name):\n",
    "    if re.fullmatch(\"[a-zA-Z-]{2,}\", name):\n",
    "        return True\n",
    "    else:\n",
    "        return False\n",
    "\n",
    "\n",
    "def validate_email(email):\n",
    "    if re.fullmatch(\"[a-zA-Z0-9.-_]+@[a-zA-Z0-9.-_]+\\.[a-zA-Z]{2,}\", email):\n",
    "        return True\n",
    "    else:\n",
    "        return False\n",
    "    \n",
    "    \n",
    "def validate_password(password):\n",
    "    \"\"\"\n",
    "    Is at least 8 characters long, contains a special character, contains a number.\n",
    "    \"\"\"\n",
    "    special_characters = \"`~!@#$%^&*()-_=+[{}]\\|;:'\\\",<.>/?\"\n",
    "    if (\n",
    "        len(password) > 8\n",
    "        and any(c in special_characters for c in password)\n",
    "        and any(c.isnumeric() for c in password)\n",
    "    ):\n",
    "        return True\n",
    "    else:\n",
    "        return False\n",
    "\n",
    "\n",
    "def validate_tolerance_for_risk(tolerance_for_risk):\n",
    "    if 1 <= tolerance_for_risk <= 5 and isinstance(tolerance_for_risk, int):\n",
    "        return True\n",
    "    else:\n",
    "        return False"
   ]
  },
  {
   "cell_type": "code",
   "execution_count": 5,
   "metadata": {},
   "outputs": [],
   "source": [
    "check_unique = \"\"\"SELECT\n",
    "                      USER_ID\n",
    "                  FROM\n",
    "                      USERS\n",
    "                  WHERE\n",
    "                      EMAIL = %s\n",
    "               \"\"\"\n",
    "\n",
    "unique = engine.execute(check_unique, (email,)).fetchall() == []"
   ]
  },
  {
   "cell_type": "code",
   "execution_count": 6,
   "metadata": {},
   "outputs": [
    {
     "name": "stdout",
     "output_type": "stream",
     "text": [
      "Invalid details\n"
     ]
    }
   ],
   "source": [
    "create_user = \"\"\"INSERT INTO USERS(\n",
    "                     FIRST_NAME,\n",
    "                     LAST_NAME,\n",
    "                     EMAIL,\n",
    "                     PASSWORD,\n",
    "                     TOLERANCE_FOR_RISK\n",
    "                 )\n",
    "                 VALUES(%s, %s, %s, %s, %s)\n",
    "              \"\"\"\n",
    "\n",
    "\n",
    "if (\n",
    "    validate_name(first_name)\n",
    "    and validate_name(last_name)\n",
    "    and validate_password(password)\n",
    "    and validate_tolerance_for_risk(tolerance_for_risk)\n",
    "    and unique\n",
    "   ):\n",
    "    engine.execute(create_user, (first_name,\n",
    "                                 last_name,\n",
    "                                 email,\n",
    "                                 password,\n",
    "                                 tolerance_for_risk)\n",
    "                  )\n",
    "else:\n",
    "    print(\"Invalid details\")"
   ]
  },
  {
   "cell_type": "code",
   "execution_count": 8,
   "metadata": {},
   "outputs": [],
   "source": [
    "get_user_id_and_tolerance_for_risk = \"\"\"SELECT\n",
    "                                            USER_ID,\n",
    "                                            TOLERANCE_FOR_RISK\n",
    "                                        FROM\n",
    "                                            USERS\n",
    "                                        WHERE\n",
    "                                            EMAIL = %s\n",
    "                                     \"\"\"\n",
    "\n",
    "user_id, tolerance_for_risk = engine.execute(get_user_id_and_tolerance_for_risk, (email,)).fetchall()[0]"
   ]
  },
  {
   "cell_type": "markdown",
   "metadata": {},
   "source": [
    "## 3) Add Stocks to Current Portfolio"
   ]
  },
  {
   "cell_type": "code",
   "execution_count": 9,
   "metadata": {},
   "outputs": [],
   "source": [
    "stock_ticker_quantity = [(\"Microsoft\", \"MSFT\", 5),\n",
    "                         (\"Tesla\", \"TSLA\", 2),\n",
    "                         (\"Ford\", \"F\", 10),\n",
    "                         (\"General Motors\", \"GM\", 10)\n",
    "                        ]"
   ]
  },
  {
   "cell_type": "markdown",
   "metadata": {},
   "source": [
    "### 3)a) Check That The Stocks Are Valid"
   ]
  },
  {
   "cell_type": "code",
   "execution_count": 10,
   "metadata": {},
   "outputs": [],
   "source": [
    "import yfinance as yf\n",
    "\n",
    "\n",
    "def check_ticker_is_valid(ticker):\n",
    "    \"\"\"\n",
    "    Takes in ticker symbol, and outputs True/False whether it exists on Yahoo! Finance.\n",
    "    \"\"\"\n",
    "    \n",
    "    info = yf.Ticker(ticker).info\n",
    "    if (\"regularMarketPrice\" in info and info[\"regularMarketPrice\"] is None \n",
    "        and \"preMarketPrice\" in info and info[\"preMarketPrice\"] is None\n",
    "        and \"logo_url\" in info and info[\"logo_url\"] is None\n",
    "       ):\n",
    "        return False\n",
    "    else:\n",
    "        return True\n",
    "    \n",
    "\n",
    "def check_quantity_is_valid(volume):\n",
    "    \"\"\"\n",
    "    Takes in the stock volume, and returns whether it is greater than 0.\n",
    "    \"\"\"\n",
    "    return volume > 0"
   ]
  },
  {
   "cell_type": "code",
   "execution_count": null,
   "metadata": {},
   "outputs": [],
   "source": [
    "add_stock_to_portfolio = \"\"\"INSERT INTO PORTFOLIOS(\n",
    "                                USER_ID,\n",
    "                                STOCK_NAME,\n",
    "                                TICKER,\n",
    "                                VOLUME\n",
    "                            )\n",
    "                            VALUES(%s, %s, %s, %s)\n",
    "                         \"\"\"\n",
    "\n",
    "for stock_name, ticker, quantity in stock_ticker_quantity:\n",
    "    if check_ticker_is_valid(ticker) and check_quantity_is_valid(quantity):\n",
    "        engine.execute(add_stock_to_portfolio, (user_id, stock_name, ticker, quantity))\n",
    "    else:\n",
    "        print(f\"Stock {stock} with Ticker {ticker} could not be found, so was ignored.\")"
   ]
  },
  {
   "cell_type": "markdown",
   "metadata": {},
   "source": [
    "### 3)b) Define Functions for Pulling Reddit and Twitter Data and Predicting Future Score"
   ]
  },
  {
   "cell_type": "code",
   "execution_count": 108,
   "metadata": {},
   "outputs": [],
   "source": [
    "import requests\n",
    "import pandas as pd\n",
    "import praw\n",
    "\n",
    "\n",
    "def pull_reddit_posts(stock_name):\n",
    "    \"\"\"\n",
    "    Return a DataFrame of recent Reddit posts relevant to the inputted stock.\n",
    "    \"\"\"\n",
    "\n",
    "    reddit = praw.Reddit(\n",
    "        client_id=\"<client_id>\",\n",
    "        client_secret=\"<client_secret>\",\n",
    "        user_agent=\"<user_agent>\",\n",
    "    )\n",
    "\n",
    "    subreddits = [reddit.subreddit(\"Trading\"),\n",
    "                  reddit.subreddit(\"investing\"),\n",
    "                  reddit.subreddit(\"stocks\")]\n",
    "    subreddits_for_coi = reddit.subreddits.search_by_name(stock_name)\n",
    "    if subreddits_for_coi:\n",
    "        subreddits.extend(subreddits_for_coi[:min(len(subreddits_for_coi), 3)])\n",
    "\n",
    "    posts = []\n",
    "    \n",
    "    for subreddit in subreddits:\n",
    "        for submission in subreddit.hot(limit=10):\n",
    "            text = submission.title + \"\\n\" + submission.selftext\n",
    "            if stock_name in text:\n",
    "                posts.append((submission.id, text, submission.score)) \n",
    "\n",
    "    return pd.DataFrame(columns=[\"id\", \"text\", \"score\"], data=posts)\n",
    "\n",
    "    \n",
    "def score_tweet(retweet_count, quote_count, like_count):\n",
    "    \"\"\"\n",
    "    Return an integer score of a tweet as a function of retweet_count, quote_count, and like_count.\n",
    "    \"\"\"\n",
    "    return int(retweet_count + quote_count + like_count)\n",
    "    \n",
    "    \n",
    "def pull_twitter_posts(stock_name):\n",
    "    \"\"\"\n",
    "    Return a DataFrame of recent Twitter Tweets relevant to the inputted stock.\n",
    "    \"\"\"\n",
    "\n",
    "    twitter_search_endpoint = \"https://api.twitter.com/2/tweets/search/recent\"\n",
    "    headers = {\n",
    "        \"Authorization\" : \"Bearer <bearer_token>\"\n",
    "    }\n",
    "    parameters  = {\n",
    "        \"query\" : stock_name,\n",
    "        \"tweet.fields\" : \"text,author_id,created_at,public_metrics\",\n",
    "    }\n",
    "\n",
    "    res = requests.get(twitter_search_endpoint, headers=headers, params=parameters) \n",
    "    tweets = res.json()\n",
    "    posts = []\n",
    "\n",
    "    if \"data\" in tweets:\n",
    "        for d in tweets[\"data\"]:\n",
    "            score = score_tweet(d[\"public_metrics\"][\"retweet_count\"],\n",
    "                                d[\"public_metrics\"][\"quote_count\"],\n",
    "                                d[\"public_metrics\"][\"like_count\"]\n",
    "                               )\n",
    "            posts.append((d[\"id\"], d[\"text\"], score))\n",
    "        \n",
    "    return pd.DataFrame(columns=[\"id\", \"text\", \"score\"], data=posts)"
   ]
  },
  {
   "cell_type": "code",
   "execution_count": 13,
   "metadata": {},
   "outputs": [],
   "source": [
    "import pickle\n",
    "from nltk.tokenize import word_tokenize\n",
    "from nltk.corpus import stopwords\n",
    "from nltk.stem import PorterStemmer\n",
    "import numpy as np\n",
    "\n",
    "\n",
    "# fetch our pre-trained models and ID to word mappings from memory\n",
    "reddit_model = pickle.load(open(\"../models/reddit_logistic_regression.sav\", \"rb\"))\n",
    "reddit_id_to_word = pickle.load(open(\"../models/reddit_id_to_word.sav\", \"rb\"))\n",
    "twitter_model = pickle.load(open(\"../models/twitter_logistic_regression.sav\", \"rb\"))\n",
    "twitter_id_to_word = pickle.load(open(\"../models/twitter_id_to_word.sav\", \"rb\"))\n",
    "\n",
    "\n",
    "def process_text(text):\n",
    "    \"\"\"\n",
    "    Returns list of stems of non-stopwords.\n",
    "    \"\"\"\n",
    "    \n",
    "    word_list = word_tokenize(str(text))\n",
    "    \n",
    "    filtered_words = [word for word in word_list if word not in stopwords.words(\"english\")]\n",
    "    \n",
    "    ps = PorterStemmer()\n",
    "    return [ps.stem(word) for word in filtered_words]\n",
    "\n",
    "\n",
    "\n",
    "def vectorize_processed_text(processed_text, id_to_word):\n",
    "    \"\"\"\n",
    "    Returns vectors of processed text, using id_to_word.\n",
    "    \"\"\"\n",
    "    \n",
    "    dict_id_to_count = {i: 0 for i in range(len(id_to_word))}\n",
    "    \n",
    "    hits = id_to_word.doc2bow(processed_text)\n",
    "    for hit in hits:\n",
    "        dict_id_to_count[hit[0]] = hit[1]\n",
    "    \n",
    "    return np.array([v for v in dict_id_to_count.values()])\n",
    "\n",
    "\n",
    "def predict_reddit_score(reddit_text):\n",
    "    \"\"\"\n",
    "    Returns an integer which is the predicted future score of the post after the\n",
    "    majority of people who will see and react to the post have done so.\n",
    "    \"\"\"\n",
    "    \n",
    "    processed_text = process_text(reddit_text)\n",
    "    vectorized_processed_text = vectorize_processed_text(processed_text, reddit_id_to_word)\n",
    "    return reddit_model.predict(vectorized_processed_text.reshape(1, -1))[0]  # have to reshape since single entry\n",
    "    \n",
    "\n",
    "def predict_twitter_score(twitter_text):\n",
    "    \"\"\"\n",
    "    Returns an integer which is the predicted future score of the post after the\n",
    "    majority of people who will see and react to the post have done so.\n",
    "    \"\"\"\n",
    "    \n",
    "    processed_text = process_text(twitter_text)\n",
    "    vectorized_processed_text = vectorize_processed_text(processed_text, twitter_id_to_word)\n",
    "    return twitter_model.predict(vectorized_processed_text.reshape(1, -1))[0]  # have to reshape since single entry"
   ]
  },
  {
   "cell_type": "markdown",
   "metadata": {},
   "source": [
    "### 3)c) Define Function for Pulling Stock Data"
   ]
  },
  {
   "cell_type": "code",
   "execution_count": 14,
   "metadata": {},
   "outputs": [],
   "source": [
    "import yfinance as yf\n",
    "import datetime\n",
    "\n",
    "\n",
    "def pull_stock_price_history(ticker):\n",
    "    \"\"\"\n",
    "    Returns DataFrame containing the last 30 days worth of price history for the input stock ticker.\n",
    "    \"\"\"\n",
    "    \n",
    "    today = datetime.date.today()\n",
    "    start = (today - datetime.timedelta(days=30)).strftime(\"%Y-%m-%d\")\n",
    "    end = today.strftime(\"%Y-%m-%d\")\n",
    "\n",
    "    return yf.download(ticker, start, end)"
   ]
  },
  {
   "cell_type": "markdown",
   "metadata": {},
   "source": [
    "### 3)d) Define a Cache, Storing API-Intensive Information That Will Be Reused"
   ]
  },
  {
   "cell_type": "code",
   "execution_count": 15,
   "metadata": {},
   "outputs": [],
   "source": [
    "from textblob import TextBlob\n",
    "\n",
    "\n",
    "# {ticker: (sentiment score from Reddit posts and Tweets, last month's price data)}\n",
    "# {string: (int, DataFrame)}\n",
    "cache = dict()\n",
    "    \n",
    "\n",
    "def add_to_cache(stock_name, ticker, cache):\n",
    "    \"\"\"\n",
    "    Add API-intensive information to cache for the input ticker and stock_name.\n",
    "    Note: only use after validating the Ticker with check_ticker_is_valid()\n",
    "    \"\"\"\n",
    "    \n",
    "    # pull Reddit posts and Tweets\n",
    "    df_reddit_posts = pull_reddit_posts(stock_name)\n",
    "    df_twitter_posts = pull_twitter_posts(stock_name)\n",
    "    \n",
    "    # predict future scores\n",
    "    df_reddit_posts[\"predicted_score\"] = df_reddit_posts[\"text\"].apply(lambda x: predict_reddit_score(x))\n",
    "    df_twitter_posts[\"predicted_score\"] = df_twitter_posts[\"text\"].apply(lambda x: predict_twitter_score(x))\n",
    "    \n",
    "    # store in combined DataFrame\n",
    "    df_reddit_and_twitter_posts = pd.concat([df_reddit_posts, df_twitter_posts])\n",
    "    \n",
    "    # calculate sentiment scores\n",
    "    df_reddit_and_twitter_posts[\"sentiment_score\"] = df_reddit_and_twitter_posts[\"text\"].apply(lambda x: TextBlob(x).sentiment.polarity)\n",
    "    \n",
    "    # calculate total predicted unexpressed sentiment\n",
    "    total_predicted_unexpressed_sentiment = 0\n",
    "    for _, r in df_reddit_and_twitter_posts.iterrows():\n",
    "        total_predicted_unexpressed_sentiment += max(0, r[\"predicted_score\"]-r[\"score\"]) * r[\"sentiment_score\"]\n",
    "    \n",
    "    # pull last month's price data\n",
    "    df_stock_price_history = pull_stock_price_history(ticker)\n",
    "    \n",
    "    # finally, add data to cache!\n",
    "    cache[ticker] = (total_predicted_unexpressed_sentiment, df_stock_price_history)"
   ]
  },
  {
   "cell_type": "markdown",
   "metadata": {},
   "source": [
    "### 3)e) Define Functions for Validating a Portfolio"
   ]
  },
  {
   "cell_type": "code",
   "execution_count": 118,
   "metadata": {},
   "outputs": [],
   "source": [
    "def calculate_risks_of_stocks_in_portfolio(portfolio, cache):\n",
    "    \"\"\"\n",
    "    Returns a list of the risk of each stock in the input portfolio.\n",
    "    The risk of a stock is defined as the standard deviation of underlying stock price model\n",
    "    as a percentage of the average price for that stock over the last 30 days\n",
    "    \"\"\"\n",
    "    \n",
    "    risks = []\n",
    "    \n",
    "    for entry in portfolio:\n",
    "        entry_price_history = cache[entry[1]][1]  # cache[ticker][price history]\n",
    "        \n",
    "        high_low_diffs = [high - low for high, low in zip(entry_price_history[\"High\"], entry_price_history[\"Low\"])]\n",
    "        average_difference_highs_and_lows = sum(high_low_diffs) / len(high_low_diffs)\n",
    "        average_stock_price = entry_price_history[\"Open\"].mean()\n",
    "        risks.append(average_difference_highs_and_lows*100 / average_stock_price)\n",
    "        \n",
    "    return risks\n",
    "\n",
    "\n",
    "def calculate_portfolio_weights(portfolio, cache):\n",
    "    \"\"\"\n",
    "    Returns a list of the normalized weights of each stock in the input portfolio.\n",
    "    Raw weight is defined as the last opening price * quantity owned for a stock.\n",
    "    \"\"\"\n",
    "    \n",
    "    portfolio_weights = []\n",
    "    \n",
    "    for entry in portfolio:\n",
    "        entry_price_history = cache[entry[1]][1]  # cache[ticker][price history]\n",
    "            \n",
    "        portfolio_weights.append(entry_price_history.iloc[-1][\"Open\"] * entry[2])\n",
    "                \n",
    "    # normalize portfolio weights\n",
    "    sum_portfolio_weights = sum(portfolio_weights)\n",
    "    if sum_portfolio_weights != 0:\n",
    "        portfolio_weights = [x / sum_portfolio_weights for x in portfolio_weights]\n",
    "        \n",
    "    return portfolio_weights\n",
    "\n",
    "\n",
    "def calculate_portfolio_risk(portfolio, cache):\n",
    "    \"\"\"\n",
    "    Return the portfolio's risk, which is defined to be the weighted average of the average\n",
    "    difference in High, Low for the last month, as a percentage of average stock price for the last month.\n",
    "    Note that portfolio can be any list of tuples of the form (stock_name, ticker, volume)\n",
    "    \"\"\"\n",
    "    \n",
    "    # for stock in portfolio whose ticker symbol is not in cache, call add_to_cache()\n",
    "    for entry in portfolio:\n",
    "        if entry[1] not in cache:\n",
    "            add_to_cache(entry[0], entry[1], cache)\n",
    "\n",
    "    # risks = [average difference in High and Low for stock 0 * 100 / average price of stock 0, ...]\n",
    "    # = [standard deviation of underlying stock price model as a percentage of the average price for stock 0, ...]\n",
    "    #\n",
    "    # portfolio_weights = [last opening price * quantity owned for stock 0, ...]\n",
    "    risks = calculate_risks_of_stocks_in_portfolio(portfolio, cache)\n",
    "    portfolio_weights = calculate_portfolio_weights(portfolio, cache)\n",
    "    \n",
    "    # compute sum of risk of each stock * weight\n",
    "    # = portfolio risk\n",
    "    return sum([risk * weight for risk, weight in zip(risks, portfolio_weights)])"
   ]
  },
  {
   "cell_type": "code",
   "execution_count": 119,
   "metadata": {},
   "outputs": [],
   "source": [
    "def validate_portfolio_risk(portfolio_risk, tolerance_for_risk):\n",
    "    \"\"\"\n",
    "    Return True if the input portfolio's risk is less than the input tolerance for risk, and False otherwise.\n",
    "    Checks whether portfolio_risk <= 3*tolerance_for_risk\n",
    "    Which is to say:\n",
    "        - for a tolerance_for_risk of 1, weighted average standard deviation is less than 3*1% = 3% of portfolio's value \n",
    "        - for a tolerance_for_risk of 5, weighted average standard deviation is less than 3*5% = 15% of portfolio's value\n",
    "    \"\"\"\n",
    "    \n",
    "    return portfolio_risk <= 3*tolerance_for_risk"
   ]
  },
  {
   "cell_type": "markdown",
   "metadata": {},
   "source": [
    "### 3)f) Define Function for Fetching a User's Portfolio"
   ]
  },
  {
   "cell_type": "code",
   "execution_count": 19,
   "metadata": {},
   "outputs": [],
   "source": [
    "def fetch_portfolio_for_user(user_id):\n",
    "    \"\"\"\n",
    "    Fetch stock tickers and quantities in user_id's portfolio from the database.\n",
    "    \"\"\"\n",
    "    fetch_portfolio_for_user = \"\"\"SELECT\n",
    "                                      STOCK_NAME,\n",
    "                                      TICKER,\n",
    "                                      VOLUME\n",
    "                                  FROM\n",
    "                                      PORTFOLIOS\n",
    "                                  WHERE\n",
    "                                      USER_ID = %s\n",
    "                               \"\"\"\n",
    "    return engine.execute(fetch_portfolio_for_user, (user_id,)).fetchall()"
   ]
  },
  {
   "cell_type": "markdown",
   "metadata": {},
   "source": [
    "### 3)g) Finally, Fetch and Validate the Initial Portfolio's Risk"
   ]
  },
  {
   "cell_type": "code",
   "execution_count": 120,
   "metadata": {},
   "outputs": [
    {
     "name": "stdout",
     "output_type": "stream",
     "text": [
      "Your initial portfolio too risky.\n"
     ]
    }
   ],
   "source": [
    "user_portfolio = fetch_portfolio_for_user(user_id)\n",
    "portfolio_risk = calculate_portfolio_risk(user_portfolio, cache)\n",
    "\n",
    "if validate_portfolio_risk(portfolio_risk, tolerance_for_risk):\n",
    "    print(\"Your initial portfolio is within your risk tolerance.\")\n",
    "else:\n",
    "    print(\"Your initial portfolio too risky.\")"
   ]
  },
  {
   "cell_type": "markdown",
   "metadata": {},
   "source": [
    "## 4) Enter Stock, Ticker and Quantity to Buy/Sell"
   ]
  },
  {
   "cell_type": "code",
   "execution_count": 109,
   "metadata": {},
   "outputs": [],
   "source": [
    "stock_name = \"Bank of America\"\n",
    "ticker = \"BAC\"\n",
    "action = \"buy\"\n",
    "quantity = 5"
   ]
  },
  {
   "cell_type": "markdown",
   "metadata": {},
   "source": [
    "## 5) Confirm the Validity of the Transaction"
   ]
  },
  {
   "cell_type": "code",
   "execution_count": 110,
   "metadata": {},
   "outputs": [],
   "source": [
    "def check_transaction_is_valid(ticker, action, quantity):\n",
    "    \"\"\"\n",
    "    Return True if the action is valid, and False otherwise.\n",
    "    Validity is defined by the action, existence of the ticker, the positivity of the quantity,\n",
    "    and the quantity being less than the owned volume for sell.\n",
    "    \"\"\"\n",
    "    \n",
    "    if action == \"buy\":\n",
    "        if check_ticker_is_valid(ticker) and check_quantity_is_valid(quantity):\n",
    "            return True\n",
    "        else:\n",
    "            return False\n",
    "    if action == \"sell\":\n",
    "        fetch_volume_of_stock = \"\"\"SELECT\n",
    "                                       VOLUME\n",
    "                                   FROM\n",
    "                                       PORTFOLIOS\n",
    "                                   WHERE\n",
    "                                       USER_ID = %s\n",
    "                                       AND TICKER = %s\n",
    "                                \"\"\"\n",
    "        volume_owned = engine.execute(fetch_volume_of_stock, (user_id, ticker)).fetchall()\n",
    "        if (check_ticker_is_valid(ticker)\n",
    "            and check_quantity_is_valid(quantity)\n",
    "            and volume_owned and quantity <= volume_owned[0][0]\n",
    "           ):\n",
    "                return True\n",
    "        else:\n",
    "            return False\n",
    "    else:\n",
    "        return False"
   ]
  },
  {
   "cell_type": "code",
   "execution_count": 111,
   "metadata": {},
   "outputs": [
    {
     "name": "stdout",
     "output_type": "stream",
     "text": [
      "Valid transaction.\n"
     ]
    }
   ],
   "source": [
    "if check_transaction_is_valid(ticker, action, quantity):\n",
    "    print(\"Valid transaction.\")\n",
    "else:\n",
    "    print(f\"Invalid transaction. Ensure you have entered a valid ticker ({ticker}) and quantity ({quantity}) (with respect to volume owned for sell)\")"
   ]
  },
  {
   "cell_type": "markdown",
   "metadata": {
    "id": "0ECR68gyJHZd"
   },
   "source": [
    "## 5) Ask Questions\n",
    "- Reasoning for transaction\n",
    "- Current mood"
   ]
  },
  {
   "cell_type": "code",
   "execution_count": 115,
   "metadata": {},
   "outputs": [
    {
     "name": "stdout",
     "output_type": "stream",
     "text": [
      "What is your reasoning for this transaction? I want to reduce my risk by investing in a stable bank.\n",
      "What is your current mood? Calm\n"
     ]
    }
   ],
   "source": [
    "reasoning = input(\"What is your reasoning for this transaction? \")\n",
    "current_mood = input(\"What is your current mood? \")"
   ]
  },
  {
   "cell_type": "markdown",
   "metadata": {},
   "source": [
    "## 6) Validate Rationality of Answers to Questions"
   ]
  },
  {
   "cell_type": "code",
   "execution_count": 116,
   "metadata": {},
   "outputs": [],
   "source": [
    "from textblob import TextBlob\n",
    "\n",
    "\n",
    "def validate_answers_to_questions(answers):\n",
    "    \n",
    "    for answer in answers:\n",
    "        if abs(TextBlob(answer).sentiment.polarity) > 0.4:\n",
    "            return False\n",
    "    \n",
    "    return True"
   ]
  },
  {
   "cell_type": "code",
   "execution_count": 117,
   "metadata": {},
   "outputs": [
    {
     "data": {
      "text/plain": [
       "True"
      ]
     },
     "execution_count": 117,
     "metadata": {},
     "output_type": "execute_result"
    }
   ],
   "source": [
    "validate_answers_to_questions([reasoning, current_mood])"
   ]
  },
  {
   "cell_type": "markdown",
   "metadata": {},
   "source": [
    "## 7) Generate Data About Portfolio Before and After Transaction"
   ]
  },
  {
   "cell_type": "markdown",
   "metadata": {},
   "source": [
    "### 7)a) Generate Future Portfolio from Current Portfolio"
   ]
  },
  {
   "cell_type": "code",
   "execution_count": 112,
   "metadata": {},
   "outputs": [],
   "source": [
    "def generate_future_portfolio(current_portfolio, transacted_stock_name, transacted_ticker, action, transacted_quantity, cache):\n",
    "    \"\"\"\n",
    "    Return the current portfolio after taking into account the already verified transaction.\n",
    "    If buying a new stock, adds it to cache.\n",
    "    \"\"\"\n",
    "    \n",
    "    future_portfolio = []\n",
    "\n",
    "    if action == \"buy\":\n",
    "        \n",
    "        change_made = False\n",
    "        \n",
    "        for stock_name, ticker, quantity in current_portfolio:\n",
    "            if ticker == transacted_ticker:\n",
    "                future_portfolio.append((stock_name, ticker, quantity+transacted_quantity))\n",
    "                change_made = True\n",
    "            else:\n",
    "                future_portfolio.append((stock_name, ticker, quantity))\n",
    "                \n",
    "        if not change_made:\n",
    "            # new stock which is not in portfolio\n",
    "            future_portfolio.append((transacted_stock_name, transacted_ticker, transacted_quantity))\n",
    "            add_to_cache(transacted_stock_name, transacted_ticker, cache)\n",
    "            \n",
    "        return future_portfolio\n",
    "    else:\n",
    "        # sell\n",
    "        for stock_name, ticker, quantity in current_portfolio:\n",
    "            if ticker == transacted_ticker:\n",
    "                if quantity-transacted_quantity > 0:\n",
    "                    future_portfolio.append((stock_name, ticker, quantity-transacted_quantity))\n",
    "            else:\n",
    "                future_portfolio.append((stock_name, ticker, quantity))\n",
    "        \n",
    "        return future_portfolio"
   ]
  },
  {
   "cell_type": "code",
   "execution_count": 113,
   "metadata": {},
   "outputs": [
    {
     "name": "stdout",
     "output_type": "stream",
     "text": [
      "[*********************100%***********************]  1 of 1 completed\n"
     ]
    }
   ],
   "source": [
    "current_portfolio = fetch_portfolio_for_user(user_id)\n",
    "future_portfolio = generate_future_portfolio(current_portfolio, stock_name, ticker, action, quantity, cache)"
   ]
  },
  {
   "cell_type": "markdown",
   "metadata": {},
   "source": [
    "### 7)b) Calculate Current and Future Portfolio Risks"
   ]
  },
  {
   "cell_type": "code",
   "execution_count": 80,
   "metadata": {},
   "outputs": [],
   "source": [
    "current_portfolio_risk = calculate_portfolio_risk(current_portfolio, cache)\n",
    "future_portfolio_risk = calculate_portfolio_risk(future_portfolio, cache)"
   ]
  },
  {
   "cell_type": "markdown",
   "metadata": {},
   "source": [
    "### 7)c) Define Function for Generating a Prediction of an Input Stock in Cache over the next Week"
   ]
  },
  {
   "cell_type": "code",
   "execution_count": 93,
   "metadata": {},
   "outputs": [],
   "source": [
    "import numpy as np\n",
    "\n",
    "\n",
    "def predict_stock_next_week(ticker, cache):\n",
    "    \"\"\"\n",
    "    Return a DataFrame containing the price movement of the input stock over the past and future week (predicted).\n",
    "    \"\"\"\n",
    "        \n",
    "    aggregate_sentiment, df_stock_prices = cache[ticker]\n",
    "    df_future_stock_prices = df_stock_prices.copy()\n",
    "    \n",
    "    mean_volume = df_stock_prices[\"Volume\"].mean()\n",
    "    sentiment_scaled_by_volume = aggregate_sentiment * 100_000 / mean_volume if mean_volume != 0 else 0\n",
    "    \n",
    "    # main distribution: normal random variable with\n",
    "    #     - a mean of the previous Open\n",
    "    #     - a standard deviation of the average difference between High and Low for each day\n",
    "    high_low_diffs = [high - low for high, low in zip(df_stock_prices[\"High\"], df_stock_prices[\"Low\"])]\n",
    "    normal_std = sum(high_low_diffs) / len(high_low_diffs)\n",
    "\n",
    "    # sentiment noise: uniform random variable of sentiment scaled by volume\n",
    "    uniform_low, uniform_high = (0, sentiment_scaled_by_volume) if sentiment_scaled_by_volume > 0 else (sentiment_scaled_by_volume, 0)\n",
    "\n",
    "    df_future_stock_prices.drop(columns=[\"High\", \"Low\", \"Close\", \"Adj Close\", \"Volume\"], inplace=True)\n",
    "\n",
    "    for i in range(7):\n",
    "        previous = df_future_stock_prices.iloc[-1]\n",
    "        date = pd.to_datetime(previous.name + datetime.timedelta(days=1), format=\"%Y-%m-%d\")\n",
    "        new_row = pd.DataFrame(\n",
    "            [[max(0, np.random.normal(previous[\"Open\"], normal_std) + np.random.uniform(low=uniform_low, high=uniform_high))]],\n",
    "            columns=[\"Open\"],\n",
    "            index=[date]\n",
    "        )\n",
    "        df_future_stock_prices = pd.concat([df_future_stock_prices, pd.DataFrame(new_row)], ignore_index=False)\n",
    "\n",
    "    return df_future_stock_prices.iloc[-14:]"
   ]
  },
  {
   "cell_type": "markdown",
   "metadata": {},
   "source": [
    "### 7)d) Define Function for Predicting the Movement of an Input Portfolio over the next Week"
   ]
  },
  {
   "cell_type": "code",
   "execution_count": 174,
   "metadata": {},
   "outputs": [],
   "source": [
    "def predict_portfolio_next_week(portfolio, cache):\n",
    "    \"\"\"\n",
    "    Return a Series containing the price movement of the input portfolio over the past and future week (predicted).\n",
    "    Return None if the input portfolio is empty.\n",
    "    \"\"\"\n",
    "    \n",
    "    if len(portfolio) == 0:\n",
    "        return None\n",
    "    \n",
    "    # get price predictions for each stock\n",
    "    stock_price_predictions = []\n",
    "    for stock_name, ticker, quantity in portfolio:\n",
    "        stock_price_predictions.append(predict_stock_next_week(ticker, cache))\n",
    "        \n",
    "    # combine DataFrames\n",
    "    if len(stock_price_predictions) == 1:\n",
    "        return stock_price_predictions[0][\"Open\"]\n",
    "    else:\n",
    "        df_combined = stock_price_predictions[0].join(stock_price_predictions[1], rsuffix=\"1\")\n",
    "\n",
    "        for i in range(2, len(stock_price_predictions[2:])+2):\n",
    "            df_combined = df_combined.join(stock_price_predictions[i], rsuffix=str(i))\n",
    "            \n",
    "        return df_combined.sum(axis=1)"
   ]
  },
  {
   "cell_type": "markdown",
   "metadata": {},
   "source": [
    "### 7)e) Calculate and Plot Current and Future Portfolio Projected Price Movements"
   ]
  },
  {
   "cell_type": "code",
   "execution_count": 176,
   "metadata": {},
   "outputs": [
    {
     "data": {
      "text/plain": [
       "Text(0.5, 1.0, 'Current Portfolio: Last Week and Projected Next Week Price Movement')"
      ]
     },
     "execution_count": 176,
     "metadata": {},
     "output_type": "execute_result"
    },
    {
     "data": {
      "image/png": "[encoded data removed]",
      "text/plain": [
       "<Figure size 1152x648 with 1 Axes>"
      ]
     },
     "metadata": {
      "needs_background": "light"
     },
     "output_type": "display_data"
    }
   ],
   "source": [
    "import matplotlib.pyplot as plt\n",
    "\n",
    "\n",
    "predict_portfolio_next_week(current_portfolio, cache).plot(label=\"current_portfolio_prediction\", figsize = (16, 9))\n",
    "plt.title(f\"Current Portfolio: Last Week and Projected Next Week Price Movement\")"
   ]
  },
  {
   "cell_type": "code",
   "execution_count": 178,
   "metadata": {},
   "outputs": [
    {
     "data": {
      "text/plain": [
       "Text(0.5, 1.0, 'Future Portfolio: Last Week and Projected Next Week Price Movement')"
      ]
     },
     "execution_count": 178,
     "metadata": {},
     "output_type": "execute_result"
    },
    {
     "data": {
      "image/png": "[encoded data removed]",
      "text/plain": [
       "<Figure size 1152x648 with 1 Axes>"
      ]
     },
     "metadata": {
      "needs_background": "light"
     },
     "output_type": "display_data"
    }
   ],
   "source": [
    "predict_portfolio_next_week(future_portfolio, cache).plot(label=\"future_portfolio_prediction\", figsize = (16, 9))\n",
    "plt.title(f\"Future Portfolio: Last Week and Projected Next Week Price Movement\")"
   ]
  },
  {
   "cell_type": "markdown",
   "metadata": {},
   "source": [
    "## Update Portfolio (if the user wishes to proceed)"
   ]
  },
  {
   "cell_type": "code",
   "execution_count": 186,
   "metadata": {},
   "outputs": [
    {
     "data": {
      "text/plain": [
       "<sqlalchemy.engine.cursor.LegacyCursorResult at 0x14109cb20>"
      ]
     },
     "execution_count": 186,
     "metadata": {},
     "output_type": "execute_result"
    }
   ],
   "source": [
    "delete_old_portfolio = \"\"\"DELETE FROM PORTFOLIOS\n",
    "                          WHERE USER_ID = %s\n",
    "                       \"\"\"\n",
    "\n",
    "engine.execute(delete_old_portfolio, (user_id,))"
   ]
  },
  {
   "cell_type": "code",
   "execution_count": 188,
   "metadata": {},
   "outputs": [],
   "source": [
    "for stock_name, ticker, volume in future_portfolio:\n",
    "    engine.execute(add_stock_to_portfolio, (user_id, stock_name, ticker, volume))"
   ]
  }
 ],
 "metadata": {
  "colab": {
   "collapsed_sections": [],
   "name": "In class - Section 1- TwitterAPI.ipynb",
   "provenance": []
  },
  "kernelspec": {
   "display_name": "venv_stocks_and_sentiment",
   "language": "python",
   "name": "venv_stocks_and_sentiment"
  },
  "language_info": {
   "codemirror_mode": {
    "name": "ipython",
    "version": 3
   },
   "file_extension": ".py",
   "mimetype": "text/x-python",
   "name": "python",
   "nbconvert_exporter": "python",
   "pygments_lexer": "ipython3",
   "version": "3.9.12"
  }
 },
 "nbformat": 4,
 "nbformat_minor": 1
}
