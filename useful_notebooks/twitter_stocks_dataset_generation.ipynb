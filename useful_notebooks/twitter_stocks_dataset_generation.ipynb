{
 "cells": [
  {
   "cell_type": "markdown",
   "metadata": {},
   "source": [
    "## List of tickers and names"
   ]
  },
  {
   "cell_type": "code",
   "execution_count": 14,
   "metadata": {},
   "outputs": [],
   "source": [
    "import pandas as pd\n",
    "\n",
    "\n",
    "\n",
    "stock_tickers_and_names = pd.read_csv(\"../datasets/stock_tickers_and_names.csv\")"
   ]
  },
  {
   "cell_type": "code",
   "execution_count": 27,
   "metadata": {},
   "outputs": [],
   "source": [
    "stock_tickers_and_names.rename(columns={\" name\": \"name\"}, inplace=True)"
   ]
  },
  {
   "cell_type": "code",
   "execution_count": 28,
   "metadata": {},
   "outputs": [],
   "source": [
    "df_sample = stock_tickers_and_names.sample(150)"
   ]
  },
  {
   "cell_type": "markdown",
   "metadata": {},
   "source": [
    "## Scrape Tweets for Dataset\n",
    "- [Documentation](https://developer.twitter.com/en/docs/twitter-api/metrics) for `public_metrics`\n",
    "    - retweet_count: A count of how many times the Tweet has been Retweeted\n",
    "    - reply_count: A count of how many times the Tweet has been replied to\n",
    "    - like_count: A count of how many times the Tweet has been liked\n",
    "    - quote_count: A count of how many times the Tweet has been Retweeted with a new comment (message). Please note: This does not include Retweets. To get the “Retweets and comments” total as displayed on the Twitter clients, simply add retweet_count and quote_count"
   ]
  },
  {
   "cell_type": "code",
   "execution_count": 29,
   "metadata": {},
   "outputs": [
    {
     "data": {
      "text/plain": [
       "Index(['ticker', 'name'], dtype='object')"
      ]
     },
     "execution_count": 29,
     "metadata": {},
     "output_type": "execute_result"
    }
   ],
   "source": [
    "df_sample.columns"
   ]
  },
  {
   "cell_type": "code",
   "execution_count": 47,
   "metadata": {},
   "outputs": [],
   "source": [
    "df_sample.reset_index(inplace=True)"
   ]
  },
  {
   "cell_type": "code",
   "execution_count": 72,
   "metadata": {
    "scrolled": true
   },
   "outputs": [
    {
     "name": "stdout",
     "output_type": "stream",
     "text": [
      "Done 0: Nektar Therapeutics\n",
      "Done 1: ON Semiconductor\n",
      "Done 2: International Paper Company\n",
      "Done 3: Halliburton Company\n",
      "Done 4: Sempra Energy\n",
      "Done 5: PayPal\n",
      "Done 6: Air Products and Chemicals\n",
      "Done 7: L Brands\n",
      "Done 8: BorgWarner\n",
      "Done 9: Wynn Resorts\n",
      "Done 10: American Airlines\n",
      "Done 11: Comcast\n",
      "Done 12: Patterson\n",
      "Done 13: Boston Scientific\n",
      "Done 14: Viacom\n",
      "Done 15: TD Ameritrade Holding\n",
      "Done 16: Tiffany & Co.\n",
      "Done 17: Constellation Brands\n",
      "Done 18: Seagate\n",
      "Done 19: Simon Property\n",
      "Done 20: Red Hat\n",
      "Done 21: ImmunoGen\n",
      "Done 22: Vertex Pharmaceuticals\n",
      "Done 23: Xcel Energy\n",
      "Done 24: SL Green Realty\n",
      "Done 25: J. C. Penney Company\n",
      "Done 26: WestRock Company\n",
      "Done 27: NetApp\n",
      "Done 28: AGNC Investment\n",
      "Done 29: Twenty-First Century Fox\n",
      "Done 30: Cigna\n",
      "Done 31: Johnson & Johnson\n",
      "Done 32: Assurant\n",
      "Done 33: Sirius XM\n",
      "Done 34: Baidu\n",
      "Done 35: BB&T\n",
      "Done 36: Formula One\n",
      "Done 37: Lumentum\n",
      "Done 38: Align\n",
      "Done 39: Petríë_leo Brasileiro S.A. - Petrobras\n",
      "Done 40: Kansas City Southern\n",
      "Done 41: C.H. Robinson Worldwide\n",
      "Done 42: United States Steel\n",
      "Done 43: Illinois Tool Works\n",
      "Done 44: Cimarex Energy Co.\n",
      "Done 45: Baker Hughes\n",
      "Done 46: Corning\n",
      "Done 47: Envision Healthcare\n",
      "Done 48: ICICI Bank Limited\n",
      "Done 49: The Home Depot\n",
      "Done 50: JD\n",
      "Done 51: Kinder Morgan\n",
      "Done 52: AutoZone\n",
      "Done 53: Morgan Stanley\n",
      "Done 54: Twitter\n",
      "Done 55: Nielsen\n",
      "Done 56: Prologis\n",
      "Done 57: Ecolab\n",
      "Done 58: Apartment Investment and Management Company\n",
      "Done 59: Torchmark\n",
      "Done 60: Vulcan Materials Company\n",
      "Done 61: Avery Dennison\n",
      "Done 62: Exelixis\n",
      "Done 63: Raymond James Financial\n",
      "Done 64: CF Industries\n",
      "Done 65: Parker-Hannifin\n",
      "Done 66: Danaher\n",
      "Done 67: United Technologies\n",
      "Done 68: Genocea\n",
      "Done 69: Pioneer Natural Resources Company\n",
      "Done 70: American International\n",
      "Done 71: Mattel\n",
      "Done 72: The Charles Schwab\n",
      "Done 73: Capital One Financial\n",
      "Done 74: State Street\n",
      "Done 75: Fortive\n",
      "Done 76: Chevron\n",
      "Done 77: AMETEK\n",
      "Done 78: Mastercard\n",
      "Done 79: Abbott Laboratories\n",
      "Done 80: Nuance Communications\n",
      "Done 81: Himax Technologies\n",
      "Done 82: Kohl's\n",
      "Done 83: The Travelers\n",
      "Done 84: Tesla\n",
      "Done 85: Diana Containerships\n",
      "Done 86: Cognizant Solutions\n",
      "Done 87: Visa\n",
      "Done 88: Akamai Technologies\n",
      "Done 89: JetBlue Airways\n",
      "Done 90: Pentair\n",
      "Done 91: Paychex\n",
      "Done 92: Nucor\n",
      "Done 93: Goldcorp\n",
      "Done 94: Bed Bath & Beyond\n",
      "Done 95: Delta Air Lines\n",
      "Done 96: Ensco\n",
      "Done 97: Expedia\n",
      "Done 98: IDEXX Laboratories\n",
      "Done 99: Entergy\n",
      "Done 100: CMS Energy\n",
      "Done 101: Host Hotels & Resorts\n",
      "Done 102: Advance Auto Parts\n",
      "Done 103: Sarepta Therapeutics\n",
      "Done 104: Oasis Petroleum\n",
      "Done 105: Citizens Financial\n",
      "Done 106: NVIDIA\n",
      "Done 107: The Sherwin-Williams Company\n",
      "Done 108: Amgen\n",
      "Done 109: Zimmer Biomet\n",
      "Done 110: Patterson-UTI Energy\n",
      "Done 111: HD Supply\n",
      "Done 112: Xerox\n",
      "Done 113: The Hershey Company\n",
      "Done 114: Leucadia National\n",
      "Done 115: Omnicom\n",
      "Done 116: Regency Centers\n",
      "Done 117: The Clorox Company\n",
      "Done 118: Aflac\n",
      "Done 119: Walmart\n",
      "Done 120: V.F.\n",
      "Done 121: Lowe's\n",
      "Done 122: Cypress Semiconductor\n",
      "Done 123: Waters\n",
      "Done 124: MGM Resorts International\n",
      "Done 125: Citigroup\n",
      "Done 126: HCA Healthcare\n",
      "Done 127: Masco\n",
      "Done 128: Garmin Ltd.\n",
      "Done 129: American Water Works Company\n",
      "Done 130: AutoNation\n",
      "Done 131: DDR\n",
      "Done 132: Zoetis\n",
      "Done 133: Northrop Grumman\n",
      "Done 134: Charter Communications\n",
      "Done 135: PPG Industries\n",
      "Done 136: Praxair\n",
      "Done 137: Broadcom\n",
      "Done 138: Cadence Design Systems\n",
      "Done 139: Dollar Tree\n",
      "Done 140: Raytheon Company\n",
      "Done 141: Global Payments\n",
      "Done 142: Loews\n",
      "Done 143: Zions Bancorporation\n",
      "Done 144: The Goodyear Tire & Rubber Company\n",
      "Done 145: The Coca-Cola Company\n",
      "Done 146: Ameren\n",
      "Done 147: FLIR Systems\n",
      "Done 148: SUPERVALU\n",
      "Done 149: Netflix\n"
     ]
    }
   ],
   "source": [
    "import requests\n",
    "import datetime\n",
    "\n",
    "\n",
    "\n",
    "twitter_search_endpoint = 'https://api.twitter.com/2/tweets/search/recent'\n",
    "headers = {\n",
    "    'Authorization' : 'Bearer <bearer_token>'\n",
    "}\n",
    "tweet_fields = 'text,author_id,created_at,public_metrics'\n",
    "\n",
    "\n",
    "now = datetime.datetime.now()\n",
    "\n",
    "# YYYY-MM-DDTHH:mm:ssZ\n",
    "start = (now - datetime.timedelta(days=6)).strftime(\"%Y-%m-%dT%H:%M:%SZ\")  # 6 days ago\n",
    "end = (now - datetime.timedelta(days=3)).strftime(\"%Y-%m-%dT%H:%M:%SZ\")    # 3 days ago\n",
    "\n",
    "\n",
    "\n",
    "with open(\"../datasets/improved_scraped_tweets.csv\", \"a\") as f:\n",
    "\n",
    "    for i,r in df_sample.iterrows():\n",
    "        parameters  = {\n",
    "            'query' : r[\"name\"],\n",
    "            'start_time': start,\n",
    "            'end_time': end,\n",
    "            'tweet.fields' : tweet_fields,\n",
    "        }\n",
    "        res = requests.get(twitter_search_endpoint, headers=headers, params=parameters)\n",
    "        if \"data\" in res.json():\n",
    "            pd.json_normalize(res.json()[\"data\"]).to_csv(f, header=False, index=False)\n",
    "        print(f\"Done {i}: {r['name']}\")"
   ]
  },
  {
   "cell_type": "code",
   "execution_count": 73,
   "metadata": {},
   "outputs": [],
   "source": [
    "df_scraped = pd.read_csv(\"../datasets/improved_scraped_tweets.csv\",\n",
    "            header=None,\n",
    "            names=['author_id', 'created_at', 'text', 'id', 'public_metrics.retweet_count',\n",
    "       'public_metrics.reply_count', 'public_metrics.like_count',\n",
    "       'public_metrics.quote_count'])"
   ]
  },
  {
   "cell_type": "code",
   "execution_count": 79,
   "metadata": {},
   "outputs": [
    {
     "name": "stdout",
     "output_type": "stream",
     "text": [
      "<class 'pandas.core.frame.DataFrame'>\n",
      "RangeIndex: 1276 entries, 0 to 1275\n",
      "Data columns (total 8 columns):\n",
      " #   Column                        Non-Null Count  Dtype \n",
      "---  ------                        --------------  ----- \n",
      " 0   author_id                     1276 non-null   object\n",
      " 1   created_at                    1276 non-null   object\n",
      " 2   text                          1276 non-null   object\n",
      " 3   id                            1276 non-null   object\n",
      " 4   public_metrics.retweet_count  1267 non-null   object\n",
      " 5   public_metrics.reply_count    1267 non-null   object\n",
      " 6   public_metrics.like_count     1276 non-null   int64 \n",
      " 7   public_metrics.quote_count    1276 non-null   int64 \n",
      "dtypes: int64(2), object(6)\n",
      "memory usage: 79.9+ KB\n"
     ]
    }
   ],
   "source": [
    "df_scraped.info()"
   ]
  },
  {
   "cell_type": "code",
   "execution_count": 82,
   "metadata": {},
   "outputs": [],
   "source": [
    "df_scraped['public_metrics.retweet_count'] = df_scraped['public_metrics.retweet_count'].fillna(0)"
   ]
  }
 ],
 "metadata": {
  "colab": {
   "collapsed_sections": [],
   "name": "In class - Section 1- TwitterAPI.ipynb",
   "provenance": []
  },
  "kernelspec": {
   "display_name": "venv_stocks_and_sentiment",
   "language": "python",
   "name": "venv_stocks_and_sentiment"
  },
  "language_info": {
   "codemirror_mode": {
    "name": "ipython",
    "version": 3
   },
   "file_extension": ".py",
   "mimetype": "text/x-python",
   "name": "python",
   "nbconvert_exporter": "python",
   "pygments_lexer": "ipython3",
   "version": "3.9.12"
  }
 },
 "nbformat": 4,
 "nbformat_minor": 1
}
