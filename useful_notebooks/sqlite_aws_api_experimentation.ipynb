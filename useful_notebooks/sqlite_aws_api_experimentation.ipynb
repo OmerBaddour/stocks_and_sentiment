{
 "cells": [
  {
   "cell_type": "markdown",
   "id": "d543c7fd",
   "metadata": {},
   "source": [
    "### Create Database"
   ]
  },
  {
   "cell_type": "code",
   "execution_count": 173,
   "id": "5162e012",
   "metadata": {},
   "outputs": [],
   "source": [
    "import pymysql\n",
    "\n",
    "\n",
    "db = pymysql.connect(host=\"<host>\",\n",
    "               user=\"<user>\",\n",
    "               password=\"<password>\")"
   ]
  },
  {
   "cell_type": "code",
   "execution_count": 174,
   "id": "a7791498",
   "metadata": {},
   "outputs": [],
   "source": [
    "cur = db.cursor()"
   ]
  },
  {
   "cell_type": "code",
   "execution_count": 182,
   "id": "07439940",
   "metadata": {},
   "outputs": [
    {
     "data": {
      "text/plain": [
       "(('information_schema',),\n",
       " ('mysql',),\n",
       " ('performance_schema',),\n",
       " ('stocks_and_sentiment',),\n",
       " ('sys',))"
      ]
     },
     "execution_count": 182,
     "metadata": {},
     "output_type": "execute_result"
    }
   ],
   "source": [
    "cur.execute('SHOW DATABASES')\n",
    "cur.fetchall()"
   ]
  },
  {
   "cell_type": "code",
   "execution_count": 18,
   "id": "a22d8131",
   "metadata": {},
   "outputs": [
    {
     "data": {
      "text/plain": [
       "()"
      ]
     },
     "execution_count": 18,
     "metadata": {},
     "output_type": "execute_result"
    }
   ],
   "source": [
    "cur.execute('CREATE DATABASE stocks_and_sentiment')\n",
    "cur.fetchall()"
   ]
  },
  {
   "cell_type": "code",
   "execution_count": 188,
   "id": "0d70c244",
   "metadata": {},
   "outputs": [],
   "source": [
    "db = pymysql.connect(host=\"<host>\",\n",
    "               user=\"<user>\",\n",
    "               password=\"<password>\",\n",
    "                    database=\"stocks_and_sentiment\")"
   ]
  },
  {
   "cell_type": "code",
   "execution_count": 189,
   "id": "94aeded5",
   "metadata": {},
   "outputs": [],
   "source": [
    "cur = db.cursor()"
   ]
  },
  {
   "cell_type": "code",
   "execution_count": 190,
   "id": "13939fea",
   "metadata": {},
   "outputs": [
    {
     "data": {
      "text/plain": [
       "(('8.0.28',),)"
      ]
     },
     "execution_count": 190,
     "metadata": {},
     "output_type": "execute_result"
    }
   ],
   "source": [
    "cur.execute('SELECT VERSION()')\n",
    "cur.fetchall()"
   ]
  },
  {
   "cell_type": "markdown",
   "id": "30c83226",
   "metadata": {},
   "source": [
    "### Create Tables"
   ]
  },
  {
   "cell_type": "code",
   "execution_count": 212,
   "id": "c27f3759",
   "metadata": {},
   "outputs": [],
   "source": [
    "# tables\n",
    "\n",
    "# USERS\n",
    "users_table = \"\"\"CREATE TABLE IF NOT EXISTS USERS (\n",
    "                     USER_ID INTEGER PRIMARY KEY AUTO_INCREMENT,\n",
    "                     FIRST_NAME TEXT NOT NULL,\n",
    "                     LAST_NAME TEXT NOT NULL,\n",
    "                     EMAIL TEXT NOT NULL,\n",
    "                     PASSWORD TEXT NOT NULL,\n",
    "                     TOLERANCE_FOR_RISK INTEGER NOT NULL\n",
    "                 );\n",
    "              \"\"\"\n",
    "# STOCKS\n",
    "portfolios_table = \"\"\"CREATE TABLE IF NOT EXISTS PORTFOLIOS (\n",
    "                          USER_ID INTEGER,\n",
    "                          STOCK_NAME TEXT NOT NULL,\n",
    "                          TICKER VARCHAR(10) NOT NULL,\n",
    "                          VOLUME INTEGER NOT NULL,\n",
    "                          PRIMARY KEY (USER_ID, TICKER),\n",
    "                          FOREIGN KEY (USER_ID) REFERENCES USERS (USER_ID)\n",
    "                      );\n",
    "               \"\"\""
   ]
  },
  {
   "cell_type": "code",
   "execution_count": 213,
   "id": "e181adc8",
   "metadata": {},
   "outputs": [
    {
     "data": {
      "text/plain": [
       "0"
      ]
     },
     "execution_count": 213,
     "metadata": {},
     "output_type": "execute_result"
    }
   ],
   "source": [
    "cur.execute(users_table)"
   ]
  },
  {
   "cell_type": "code",
   "execution_count": 214,
   "id": "b88de9ba",
   "metadata": {},
   "outputs": [
    {
     "data": {
      "text/plain": [
       "0"
      ]
     },
     "execution_count": 214,
     "metadata": {},
     "output_type": "execute_result"
    }
   ],
   "source": [
    "cur.execute(portfolios_table)"
   ]
  },
  {
   "cell_type": "code",
   "execution_count": 215,
   "id": "db20825d",
   "metadata": {},
   "outputs": [
    {
     "data": {
      "text/plain": [
       "(('PORTFOLIOS',), ('USERS',))"
      ]
     },
     "execution_count": 215,
     "metadata": {},
     "output_type": "execute_result"
    }
   ],
   "source": [
    "cur.execute('SHOW TABLES')\n",
    "cur.fetchall()"
   ]
  },
  {
   "cell_type": "code",
   "execution_count": 211,
   "id": "2fecc98b",
   "metadata": {},
   "outputs": [
    {
     "data": {
      "text/plain": [
       "()"
      ]
     },
     "execution_count": 211,
     "metadata": {},
     "output_type": "execute_result"
    }
   ],
   "source": [
    "# cur.execute('DROP TABLE USERS')\n",
    "# cur.fetchall()"
   ]
  },
  {
   "cell_type": "markdown",
   "id": "8b5cb7ec",
   "metadata": {},
   "source": [
    "### Populate Tables"
   ]
  },
  {
   "cell_type": "code",
   "execution_count": 216,
   "id": "07fbb0aa",
   "metadata": {},
   "outputs": [],
   "source": [
    "new_user = \"\"\"INSERT INTO USERS (\n",
    "                  FIRST_NAME,\n",
    "                  LAST_NAME,\n",
    "                  EMAIL,\n",
    "                  PASSWORD,\n",
    "                  TOLERANCE_FOR_RISK\n",
    "              )\n",
    "              VALUES (%s, %s, %s, %s, %s)\n",
    "            \"\"\""
   ]
  },
  {
   "cell_type": "code",
   "execution_count": 217,
   "id": "6df8110b",
   "metadata": {},
   "outputs": [],
   "source": [
    "cur.execute(new_user, (\"test_first\", \"test_last\", \"test@email.com\", \"test_password\", \"1\"))\n",
    "db.commit()"
   ]
  },
  {
   "cell_type": "code",
   "execution_count": 218,
   "id": "119c509a",
   "metadata": {},
   "outputs": [
    {
     "data": {
      "text/plain": [
       "1"
      ]
     },
     "execution_count": 218,
     "metadata": {},
     "output_type": "execute_result"
    }
   ],
   "source": [
    "check = \"\"\"SELECT * FROM USERS\"\"\"\n",
    "cur.execute(check)"
   ]
  },
  {
   "cell_type": "code",
   "execution_count": 219,
   "id": "dbfe381d",
   "metadata": {},
   "outputs": [
    {
     "data": {
      "text/plain": [
       "((1, 'test_first', 'test_last', 'test@email.com', 'test_password', 1),)"
      ]
     },
     "execution_count": 219,
     "metadata": {},
     "output_type": "execute_result"
    }
   ],
   "source": [
    "cur.fetchall()"
   ]
  },
  {
   "cell_type": "code",
   "execution_count": 220,
   "id": "1359964a",
   "metadata": {},
   "outputs": [
    {
     "data": {
      "text/plain": [
       "()"
      ]
     },
     "execution_count": 220,
     "metadata": {},
     "output_type": "execute_result"
    }
   ],
   "source": [
    "check = \"\"\"SELECT * FROM PORTFOLIOS\"\"\"\n",
    "cur.execute(check)\n",
    "cur.fetchall()"
   ]
  },
  {
   "cell_type": "code",
   "execution_count": 221,
   "id": "17ada4da",
   "metadata": {},
   "outputs": [],
   "source": [
    "fetch_user_portfolio = \"\"\"SELECT\n",
    "                                  STOCK_NAME,\n",
    "                                  TICKER,\n",
    "                                  VOLUME\n",
    "                              FROM\n",
    "                                  PORTFOLIOS\n",
    "                              WHERE\n",
    "                                  USER_ID = %s\n",
    "                           \"\"\"\n",
    "cur.execute(fetch_user_portfolio, (1))\n",
    "current_portfolio = cur.fetchall()"
   ]
  },
  {
   "cell_type": "code",
   "execution_count": 222,
   "id": "5fcd0d3c",
   "metadata": {},
   "outputs": [
    {
     "data": {
      "text/plain": [
       "()"
      ]
     },
     "execution_count": 222,
     "metadata": {},
     "output_type": "execute_result"
    }
   ],
   "source": [
    "current_portfolio"
   ]
  },
  {
   "cell_type": "markdown",
   "id": "641764f0",
   "metadata": {},
   "source": [
    "### Update Table Entries"
   ]
  },
  {
   "cell_type": "code",
   "execution_count": 227,
   "id": "9c9e5f8f",
   "metadata": {},
   "outputs": [],
   "source": [
    "update = \"\"\"UPDATE USERS\n",
    "            SET FIRST_NAME = %s,\n",
    "                LAST_NAME = %s\n",
    "            WHERE USER_ID = %s\"\"\""
   ]
  },
  {
   "cell_type": "code",
   "execution_count": 228,
   "id": "d7c3f17c",
   "metadata": {},
   "outputs": [],
   "source": [
    "cur.execute(update, (\"new_first\", \"new_last\", 1))\n",
    "db.commit()"
   ]
  },
  {
   "cell_type": "code",
   "execution_count": 229,
   "id": "da4a78e0",
   "metadata": {},
   "outputs": [
    {
     "data": {
      "text/plain": [
       "((1, 'new_first', 'new_last', 'test@email.com', 'test_password', 1),)"
      ]
     },
     "execution_count": 229,
     "metadata": {},
     "output_type": "execute_result"
    }
   ],
   "source": [
    "check = \"\"\"SELECT * FROM USERS\"\"\"\n",
    "cur.execute(check)\n",
    "cur.fetchall()"
   ]
  },
  {
   "cell_type": "markdown",
   "id": "78a87ffe",
   "metadata": {},
   "source": [
    "### Delete Table Entries"
   ]
  },
  {
   "cell_type": "code",
   "execution_count": 230,
   "id": "91126af6",
   "metadata": {},
   "outputs": [],
   "source": [
    "delete = \"\"\"DELETE FROM USERS\n",
    "            WHERE USER_ID = %s\"\"\""
   ]
  },
  {
   "cell_type": "code",
   "execution_count": 232,
   "id": "127d4cd2",
   "metadata": {},
   "outputs": [],
   "source": [
    "cur.execute(delete, (1,))\n",
    "db.commit()"
   ]
  },
  {
   "cell_type": "code",
   "execution_count": 233,
   "id": "fc917dfc",
   "metadata": {},
   "outputs": [
    {
     "data": {
      "text/plain": [
       "()"
      ]
     },
     "execution_count": 233,
     "metadata": {},
     "output_type": "execute_result"
    }
   ],
   "source": [
    "check = \"\"\"SELECT * FROM USERS\"\"\"\n",
    "cur.execute(check)\n",
    "cur.fetchall()"
   ]
  },
  {
   "cell_type": "markdown",
   "id": "b0536db1",
   "metadata": {},
   "source": [
    "### Close Connection"
   ]
  },
  {
   "cell_type": "code",
   "execution_count": 234,
   "id": "8b22d9e1",
   "metadata": {},
   "outputs": [],
   "source": [
    "db.close()"
   ]
  }
 ],
 "metadata": {
  "kernelspec": {
   "display_name": "venv_stocks_and_sentiment",
   "language": "python",
   "name": "venv_stocks_and_sentiment"
  },
  "language_info": {
   "codemirror_mode": {
    "name": "ipython",
    "version": 3
   },
   "file_extension": ".py",
   "mimetype": "text/x-python",
   "name": "python",
   "nbconvert_exporter": "python",
   "pygments_lexer": "ipython3",
   "version": "3.9.12"
  }
 },
 "nbformat": 4,
 "nbformat_minor": 5
}
